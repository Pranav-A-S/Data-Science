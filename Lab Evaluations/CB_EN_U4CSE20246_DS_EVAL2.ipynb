{
  "cells": [
    {
      "cell_type": "markdown",
      "metadata": {
        "id": "t9T8NV7UVYIA"
      },
      "source": [
        "19CSE304 Lab Evaluation 2\n",
        "PRANAV A S\n",
        "CB.EN.U4CSE20246"
      ]
    },
    {
      "cell_type": "markdown",
      "metadata": {
        "id": "KrAwgbMnVYIO"
      },
      "source": [
        "# 1"
      ]
    },
    {
      "cell_type": "code",
      "execution_count": 14,
      "metadata": {
        "id": "KLNPHNCwVYIR"
      },
      "outputs": [],
      "source": [
        "import pandas as pd\n",
        "import numpy as np\n",
        "from scipy import stats\n",
        "import seaborn as sns\n",
        "import matplotlib.pyplot as plt"
      ]
    },
    {
      "cell_type": "code",
      "execution_count": 2,
      "metadata": {
        "id": "HjdYHePlVYIW"
      },
      "outputs": [],
      "source": [
        "flowers = [\"PURPLE\",\"PURPLE\",\"PURPLE\",\"WHITE\"]"
      ]
    },
    {
      "cell_type": "code",
      "execution_count": 3,
      "metadata": {
        "id": "KDZJ10hLVYIX"
      },
      "outputs": [],
      "source": [
        "NUM_PURPLE = 705 + 46\n",
        "NUM_TOTAL = 929\n",
        "NUM_WHITE = NUM_TOTAL - NUM_PURPLE\n",
        "NUM_ITERS = 2000 - 246"
      ]
    },
    {
      "cell_type": "code",
      "execution_count": 4,
      "metadata": {
        "id": "KrjhymIvVYIZ"
      },
      "outputs": [],
      "source": [
        "df = pd.DataFrame({\"Color\":[\"White\",\"Purple\"],\"Hypothesis\":[0.25,0.75],\"Sample\":[NUM_WHITE/NUM_TOTAL, NUM_PURPLE/NUM_TOTAL]})"
      ]
    },
    {
      "cell_type": "code",
      "execution_count": 5,
      "metadata": {
        "colab": {
          "base_uri": "https://localhost:8080/",
          "height": 112
        },
        "id": "GUBFVIEaVYIb",
        "outputId": "48140039-a528-438d-f520-435ca35e7e4f"
      },
      "outputs": [
        {
          "output_type": "execute_result",
          "data": {
            "text/plain": [
              "    Color  Hypothesis    Sample\n",
              "0   White        0.25  0.191604\n",
              "1  Purple        0.75  0.808396"
            ],
            "text/html": [
              "\n",
              "  <div id=\"df-5a67171c-c13b-488e-b658-b9ae5a4b1f4a\">\n",
              "    <div class=\"colab-df-container\">\n",
              "      <div>\n",
              "<style scoped>\n",
              "    .dataframe tbody tr th:only-of-type {\n",
              "        vertical-align: middle;\n",
              "    }\n",
              "\n",
              "    .dataframe tbody tr th {\n",
              "        vertical-align: top;\n",
              "    }\n",
              "\n",
              "    .dataframe thead th {\n",
              "        text-align: right;\n",
              "    }\n",
              "</style>\n",
              "<table border=\"1\" class=\"dataframe\">\n",
              "  <thead>\n",
              "    <tr style=\"text-align: right;\">\n",
              "      <th></th>\n",
              "      <th>Color</th>\n",
              "      <th>Hypothesis</th>\n",
              "      <th>Sample</th>\n",
              "    </tr>\n",
              "  </thead>\n",
              "  <tbody>\n",
              "    <tr>\n",
              "      <th>0</th>\n",
              "      <td>White</td>\n",
              "      <td>0.25</td>\n",
              "      <td>0.191604</td>\n",
              "    </tr>\n",
              "    <tr>\n",
              "      <th>1</th>\n",
              "      <td>Purple</td>\n",
              "      <td>0.75</td>\n",
              "      <td>0.808396</td>\n",
              "    </tr>\n",
              "  </tbody>\n",
              "</table>\n",
              "</div>\n",
              "      <button class=\"colab-df-convert\" onclick=\"convertToInteractive('df-5a67171c-c13b-488e-b658-b9ae5a4b1f4a')\"\n",
              "              title=\"Convert this dataframe to an interactive table.\"\n",
              "              style=\"display:none;\">\n",
              "        \n",
              "  <svg xmlns=\"http://www.w3.org/2000/svg\" height=\"24px\"viewBox=\"0 0 24 24\"\n",
              "       width=\"24px\">\n",
              "    <path d=\"M0 0h24v24H0V0z\" fill=\"none\"/>\n",
              "    <path d=\"M18.56 5.44l.94 2.06.94-2.06 2.06-.94-2.06-.94-.94-2.06-.94 2.06-2.06.94zm-11 1L8.5 8.5l.94-2.06 2.06-.94-2.06-.94L8.5 2.5l-.94 2.06-2.06.94zm10 10l.94 2.06.94-2.06 2.06-.94-2.06-.94-.94-2.06-.94 2.06-2.06.94z\"/><path d=\"M17.41 7.96l-1.37-1.37c-.4-.4-.92-.59-1.43-.59-.52 0-1.04.2-1.43.59L10.3 9.45l-7.72 7.72c-.78.78-.78 2.05 0 2.83L4 21.41c.39.39.9.59 1.41.59.51 0 1.02-.2 1.41-.59l7.78-7.78 2.81-2.81c.8-.78.8-2.07 0-2.86zM5.41 20L4 18.59l7.72-7.72 1.47 1.35L5.41 20z\"/>\n",
              "  </svg>\n",
              "      </button>\n",
              "      \n",
              "  <style>\n",
              "    .colab-df-container {\n",
              "      display:flex;\n",
              "      flex-wrap:wrap;\n",
              "      gap: 12px;\n",
              "    }\n",
              "\n",
              "    .colab-df-convert {\n",
              "      background-color: #E8F0FE;\n",
              "      border: none;\n",
              "      border-radius: 50%;\n",
              "      cursor: pointer;\n",
              "      display: none;\n",
              "      fill: #1967D2;\n",
              "      height: 32px;\n",
              "      padding: 0 0 0 0;\n",
              "      width: 32px;\n",
              "    }\n",
              "\n",
              "    .colab-df-convert:hover {\n",
              "      background-color: #E2EBFA;\n",
              "      box-shadow: 0px 1px 2px rgba(60, 64, 67, 0.3), 0px 1px 3px 1px rgba(60, 64, 67, 0.15);\n",
              "      fill: #174EA6;\n",
              "    }\n",
              "\n",
              "    [theme=dark] .colab-df-convert {\n",
              "      background-color: #3B4455;\n",
              "      fill: #D2E3FC;\n",
              "    }\n",
              "\n",
              "    [theme=dark] .colab-df-convert:hover {\n",
              "      background-color: #434B5C;\n",
              "      box-shadow: 0px 1px 3px 1px rgba(0, 0, 0, 0.15);\n",
              "      filter: drop-shadow(0px 1px 2px rgba(0, 0, 0, 0.3));\n",
              "      fill: #FFFFFF;\n",
              "    }\n",
              "  </style>\n",
              "\n",
              "      <script>\n",
              "        const buttonEl =\n",
              "          document.querySelector('#df-5a67171c-c13b-488e-b658-b9ae5a4b1f4a button.colab-df-convert');\n",
              "        buttonEl.style.display =\n",
              "          google.colab.kernel.accessAllowed ? 'block' : 'none';\n",
              "\n",
              "        async function convertToInteractive(key) {\n",
              "          const element = document.querySelector('#df-5a67171c-c13b-488e-b658-b9ae5a4b1f4a');\n",
              "          const dataTable =\n",
              "            await google.colab.kernel.invokeFunction('convertToInteractive',\n",
              "                                                     [key], {});\n",
              "          if (!dataTable) return;\n",
              "\n",
              "          const docLinkHtml = 'Like what you see? Visit the ' +\n",
              "            '<a target=\"_blank\" href=https://colab.research.google.com/notebooks/data_table.ipynb>data table notebook</a>'\n",
              "            + ' to learn more about interactive tables.';\n",
              "          element.innerHTML = '';\n",
              "          dataTable['output_type'] = 'display_data';\n",
              "          await google.colab.output.renderOutput(dataTable, element);\n",
              "          const docLink = document.createElement('div');\n",
              "          docLink.innerHTML = docLinkHtml;\n",
              "          element.appendChild(docLink);\n",
              "        }\n",
              "      </script>\n",
              "    </div>\n",
              "  </div>\n",
              "  "
            ]
          },
          "metadata": {},
          "execution_count": 5
        }
      ],
      "source": [
        "df"
      ]
    },
    {
      "cell_type": "markdown",
      "metadata": {
        "id": "9PKlkqf0VYIf"
      },
      "source": [
        "# Test Statistic"
      ]
    },
    {
      "cell_type": "code",
      "execution_count": 6,
      "metadata": {
        "id": "qLqv-U7CVYIh"
      },
      "outputs": [],
      "source": [
        "def tvd(dist1, dist2):\n",
        "    return abs(np.subtract(dist1, dist2)).sum() / 2"
      ]
    },
    {
      "cell_type": "code",
      "execution_count": 7,
      "metadata": {
        "colab": {
          "base_uri": "https://localhost:8080/"
        },
        "id": "PhgkP0XoVYIj",
        "outputId": "31ab23a8-09dd-4335-d933-b4f6af280520"
      },
      "outputs": [
        {
          "output_type": "stream",
          "name": "stdout",
          "text": [
            "0.058396124865446736\n"
          ]
        }
      ],
      "source": [
        "given_tvd = tvd(df[\"Hypothesis\"],df[\"Sample\"])\n",
        "print(given_tvd)"
      ]
    },
    {
      "cell_type": "markdown",
      "metadata": {
        "id": "jVyMJfQ7VYIm"
      },
      "source": [
        "# Sampling Function"
      ]
    },
    {
      "cell_type": "code",
      "execution_count": 8,
      "metadata": {
        "id": "rpf1pJzCVYIn"
      },
      "outputs": [],
      "source": [
        "def sample_proportions(sample_size, probabilities):\n",
        "    return np.random.multinomial(sample_size, probabilities)/ sample_size"
      ]
    },
    {
      "cell_type": "markdown",
      "metadata": {
        "id": "xrZiNFe1VYIo"
      },
      "source": [
        "ANSWERS FOR QUESTIONS 1,2,3"
      ]
    },
    {
      "cell_type": "markdown",
      "metadata": {
        "id": "zeRlx0HsVYIp"
      },
      "source": [
        "1. Null and Alternate hypothesis\n",
        "\n",
        "    H_0: The frequencies of the flowers in the sample is inline with the hypothesized frequencies.\n",
        "\n",
        "    H_1: The hypothesized frequencies do not correspond the sample frequencies\n",
        "\n"
      ]
    },
    {
      "cell_type": "markdown",
      "metadata": {
        "id": "o0WcL4RAVYIq"
      },
      "source": [
        "2. The test statistic used here is z score of __TVD__.\n",
        "\n",
        "    TVD is defined as $\\frac{\\Sigma |dist_1 - dist_2|}{2}$\n",
        "\n",
        "    Since 1387 is not smaller than 30 the z score can be used."
      ]
    },
    {
      "cell_type": "markdown",
      "metadata": {
        "id": "WJj1xFTDVYIr"
      },
      "source": [
        "3. The observed TVD is $0.0228$. The empirical p value of $0.0228$ is $0.10$"
      ]
    },
    {
      "cell_type": "code",
      "execution_count": 10,
      "metadata": {
        "colab": {
          "base_uri": "https://localhost:8080/",
          "height": 165
        },
        "id": "T4OPjSP_VYIs",
        "outputId": "a4da4106-6df4-4835-8103-91ddc17576b8"
      },
      "outputs": [
        {
          "output_type": "error",
          "ename": "NameError",
          "evalue": "ignored",
          "traceback": [
            "\u001b[0;31m---------------------------------------------------------------------------\u001b[0m",
            "\u001b[0;31mNameError\u001b[0m                                 Traceback (most recent call last)",
            "\u001b[0;32m<ipython-input-10-f84b2deee2cd>\u001b[0m in \u001b[0;36m<module>\u001b[0;34m\u001b[0m\n\u001b[0;32m----> 1\u001b[0;31m \u001b[0mX\u001b[0m \u001b[0;34m=\u001b[0m \u001b[0mnp\u001b[0m\u001b[0;34m.\u001b[0m\u001b[0mcount_nonzero\u001b[0m\u001b[0;34m(\u001b[0m\u001b[0msampling_tvd\u001b[0m \u001b[0;34m>=\u001b[0m \u001b[0mgiven_tvd\u001b[0m\u001b[0;34m)\u001b[0m \u001b[0;34m/\u001b[0m \u001b[0mlen\u001b[0m\u001b[0;34m(\u001b[0m\u001b[0msampling_tvd\u001b[0m\u001b[0;34m)\u001b[0m\u001b[0;34m\u001b[0m\u001b[0;34m\u001b[0m\u001b[0m\n\u001b[0m",
            "\u001b[0;31mNameError\u001b[0m: name 'sampling_tvd' is not defined"
          ]
        }
      ],
      "source": [
        "X = np.count_nonzero(sampling_tvd >= given_tvd) / len(sampling_tvd)\n",
        "X"
      ]
    },
    {
      "cell_type": "code",
      "execution_count": null,
      "metadata": {
        "id": "2C_wrHn5VYIt"
      },
      "outputs": [],
      "source": [
        "stats.norm.ppf(0.10)"
      ]
    },
    {
      "cell_type": "markdown",
      "metadata": {
        "id": "QeuPGSbdVYIu"
      },
      "source": [
        "This is the empirical z score. This suggests that the obtained sample lies $1.2 \\sigma$ from the mean"
      ]
    },
    {
      "cell_type": "markdown",
      "metadata": {
        "id": "h8lzjLCxVYIv"
      },
      "source": [
        "4. Simulation"
      ]
    },
    {
      "cell_type": "code",
      "execution_count": null,
      "metadata": {
        "id": "N_Wg-NZGVYIw"
      },
      "outputs": [],
      "source": [
        "sampling_tvd = []\n",
        "for _ in range(NUM_ITERS):\n",
        "    tmp = sample_proportions(NUM_TOTAL, df[\"Hypothesis\"])\n",
        "    sampling_tvd.append(tvd(tmp, df[\"Hypothesis\"]))"
      ]
    },
    {
      "cell_type": "markdown",
      "metadata": {
        "id": "laXjSkVoVYIx"
      },
      "source": [
        "5. Visualization of the simulation"
      ]
    },
    {
      "cell_type": "code",
      "execution_count": null,
      "metadata": {
        "id": "Olv6FsRAVYIy"
      },
      "outputs": [],
      "source": [
        "fig, ax = plt.subplots()\n",
        "sns.histplot(ax=ax, x=sampling_tvd)\n",
        "plt.scatter(given_tvd, 1, marker=\"o\", s=100, color=\"r\")\n",
        "plt.show()"
      ]
    },
    {
      "cell_type": "markdown",
      "metadata": {
        "id": "t6fDh8TAVYIz"
      },
      "source": [
        "6. Outcome\n",
        "\n",
        "    The empirical probability of obtaining a sample with atleast the TVD of the given sample is $0.10$, which is $10\\%$. Since $10\\%$ is greater than both of the most commonly used $\\alpha$ values $[5\\%,1\\%]$, the __Null hypothesis cannot be rejected__. Mendel hypothesis that purple and white flowers of pea plant grow in the ratio of $3:1$ cannot be rejected."
      ]
    },
    {
      "cell_type": "markdown",
      "source": [
        "PART B"
      ],
      "metadata": {
        "id": "pMdGxCpjW9Xu"
      }
    },
    {
      "cell_type": "code",
      "source": [
        "import pandas as pd\n",
        "import numpy as np\n",
        "import matplotlib.pyplot as plt\n",
        "import scipy.stats as st"
      ],
      "metadata": {
        "id": "HUi6qnUKXJ90"
      },
      "execution_count": 15,
      "outputs": []
    },
    {
      "cell_type": "code",
      "source": [
        "std = 13.46\n",
        "mu = 60\n",
        "n = 30\n",
        "x_bar = 65.10\n",
        "alpha = 0.05\n",
        "\n",
        "#H0 : mu = 60\n",
        "#H1 = mu != 60\n",
        "\n",
        "z = (x_bar-mu)/(std/np.sqrt(n))\n",
        "print(\"Calculated Statistic : \",z)\n",
        "\n",
        "z_critical = np.abs(st.norm.ppf(alpha/2) )\n",
        "print(\"Critical Value : \",z_critical)\n",
        "\n",
        "if z<z_critical:\n",
        "    print(\"Failed to Reject the NULL hypothesis\")\n",
        "else: \n",
        "    print(\"Reject NULL hypothesis\")"
      ],
      "metadata": {
        "colab": {
          "base_uri": "https://localhost:8080/"
        },
        "id": "822N4E_PW4mC",
        "outputId": "9ba9d433-d545-46da-a66b-777135712af1"
      },
      "execution_count": 16,
      "outputs": [
        {
          "output_type": "stream",
          "name": "stdout",
          "text": [
            "Calculated Statistic :  2.075323211943792\n",
            "Critical Value :  1.9599639845400545\n",
            "Reject NULL hypothesis\n"
          ]
        }
      ]
    }
  ],
  "metadata": {
    "kernelspec": {
      "display_name": "Python 3",
      "language": "python",
      "name": "python3"
    },
    "language_info": {
      "codemirror_mode": {
        "name": "ipython",
        "version": 3
      },
      "file_extension": ".py",
      "mimetype": "text/x-python",
      "name": "python",
      "nbconvert_exporter": "python",
      "pygments_lexer": "ipython3",
      "version": "3.10.8"
    },
    "orig_nbformat": 4,
    "vscode": {
      "interpreter": {
        "hash": "b0fa6594d8f4cbf19f97940f81e996739fb7646882a419484c72d19e05852a7e"
      }
    },
    "colab": {
      "provenance": []
    }
  },
  "nbformat": 4,
  "nbformat_minor": 0
}